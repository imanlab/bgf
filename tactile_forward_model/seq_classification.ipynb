{
 "cells": [
  {
   "cell_type": "code",
   "execution_count": 1,
   "metadata": {},
   "outputs": [],
   "source": [
    "import glob\n",
    "import numpy as np\n",
    "from pickle import dump\n",
    "\n",
    "import torch\n",
    "import torch.nn as nn\n",
    "import torch.optim as optim\n",
    "from torch.utils.data import Dataset, DataLoader\n",
    "\n",
    "from sklearn.preprocessing import StandardScaler\n",
    "from sklearn.model_selection import train_test_split\n",
    "from sklearn.metrics import confusion_matrix, classification_report, accuracy_score"
   ]
  },
  {
   "cell_type": "code",
   "execution_count": 3,
   "metadata": {},
   "outputs": [],
   "source": [
    "class ClassifierLSTM(nn.Module):\n",
    "    def __init__(self, device, context_frames):\n",
    "        super(ClassifierLSTM, self).__init__()\n",
    "        self.device = device\n",
    "        self.context_frames = context_frames\n",
    "        self.lstm = nn.LSTM(32, 200).to(device)  # tactile\n",
    "        self.fc1 = nn.Linear(200, 40).to(device)\n",
    "        self.fc2 = nn.Linear(40, 1).to(device)\n",
    "        self.tan_activation = nn.Tanh().to(device)\n",
    "        self.relu_activation = nn.ReLU().to(device)\n",
    "        self.softmax_activation = nn.Softmax(dim=1).to(device) #we don't use this because BCE loss in pytorch automatically applies the the Sigmoid activation\n",
    "        self.dropout = nn.Dropout(p=0.5)\n",
    "\n",
    "    def forward(self, tactiles):\n",
    "        batch_size__ = tactiles.shape[1]\n",
    "        outputs = []\n",
    "        hidden = (torch.zeros(1, batch_size__, 200, device=torch.device('cuda')), torch.zeros(1, batch_size__, 200, device=torch.device('cuda')))\n",
    "        for index, sample_tactile_prediction in enumerate(tactiles):\n",
    "            lstm_out, self.hidden_lstm = self.lstm(sample_tactile_prediction.view(1, batch_size__, -1), hidden)\n",
    "            lstm_out_drop = self.dropout(lstm_out)\n",
    "            fc1_out = self.relu_activation(self.fc1(lstm_out_drop))\n",
    "            fc1_out_drop = self.dropout(fc1_out)\n",
    "            fc2_out = self.tan_activation(self.fc2(fc1_out_drop))\n",
    "            outputs.append(fc2_out.view(batch_size__, -1))\n",
    "\n",
    "\n",
    "        return torch.stack(outputs)"
   ]
  },
  {
   "cell_type": "code",
   "execution_count": 4,
   "metadata": {},
   "outputs": [],
   "source": [
    "data_dir = '/home/kia/Kiyanoush/UoLincoln/Projects/Tactile_control/tactile_prediction/uninversal_trainer/ACTP/saved_models/model_29_07_2022_11_27_kins/test_results'\n",
    "files = sorted(glob.glob(data_dir + '/*'))"
   ]
  },
  {
   "cell_type": "markdown",
   "metadata": {},
   "source": [
    "**This is for Single Feature Input**"
   ]
  },
  {
   "cell_type": "code",
   "execution_count": 5,
   "metadata": {},
   "outputs": [],
   "source": [
    "for index, file in enumerate(files):\n",
    "    if index == 0:\n",
    "        t10_prediction_full = np.load(file + '/prediction_data.npy')[:, :, :32]\n",
    "        slip_data_full = np.load(file + '/slip_data.npy')\n",
    "    else:\n",
    "        t10_prediction = np.load(file + '/prediction_data.npy')[:, :, :32]\n",
    "        slip_data = np.load(file + '/slip_data.npy')\n",
    "        t10_prediction_full = np.concatenate((t10_prediction_full, t10_prediction), axis=0)\n",
    "        slip_data_full = np.concatenate((slip_data_full, slip_data), axis=0)"
   ]
  },
  {
   "cell_type": "markdown",
   "metadata": {},
   "source": [
    "**This is for Delta Feature Input**"
   ]
  },
  {
   "cell_type": "code",
   "execution_count": 5,
   "metadata": {},
   "outputs": [],
   "source": [
    "for index, file in enumerate(files):\n",
    "    if index == 0:\n",
    "        t10_prediction_full = np.load(file + '/prediction_data.npy')[:, :, :32]\n",
    "        slip_data_full = np.load(file + '/slip_data.npy')\n",
    "\n",
    "        t10_prediction_diff = np.diff(t10_prediction_full, axis=0)\n",
    "\n",
    "        t10_prediction_full = np.concatenate((t10_prediction_full[1:], t10_prediction_diff), axis=2)\n",
    "        slip_data_full = slip_data_full[1:]\n",
    "    else:\n",
    "        t10_prediction = np.load(file + '/prediction_data.npy')[:, :, :32]\n",
    "        slip_data = np.load(file + '/slip_data.npy')\n",
    "\n",
    "        t10_prediction_diff = np.diff(t10_prediction, axis=0)\n",
    "\n",
    "        t10_prediction = np.concatenate((t10_prediction[1:], t10_prediction_diff), axis=2)\n",
    "        slip_data = slip_data[1:]\n",
    "\n",
    "        t10_prediction_full = np.concatenate((t10_prediction_full, t10_prediction), axis=0)\n",
    "        slip_data_full = np.concatenate((slip_data_full, slip_data), axis=0)"
   ]
  },
  {
   "cell_type": "code",
   "execution_count": 6,
   "metadata": {},
   "outputs": [
    {
     "name": "stdout",
     "output_type": "stream",
     "text": [
      "(229760, 10, 32)\n",
      "(229760, 10)\n"
     ]
    }
   ],
   "source": [
    "print(t10_prediction_full.shape)\n",
    "print(slip_data_full.shape)"
   ]
  },
  {
   "cell_type": "code",
   "execution_count": 7,
   "metadata": {},
   "outputs": [],
   "source": [
    "def detemporalize(X_seq):\n",
    "    x_2d = np.zeros((X_seq.shape[0] * X_seq.shape[1], X_seq.shape[2]))\n",
    "    for index, seq in enumerate(X_seq):\n",
    "        x_2d[10*index:10*(index+1)] = seq\n",
    "       \n",
    "    return x_2d"
   ]
  },
  {
   "cell_type": "code",
   "execution_count": 8,
   "metadata": {},
   "outputs": [],
   "source": [
    "X_train, X_test, y_train, y_test = train_test_split(t10_prediction_full, slip_data_full, test_size=0.3, random_state=42)\n",
    "\n",
    "X_train_2d = detemporalize(X_train)\n",
    "X_test_2d = detemporalize(X_test)\n",
    "scaler = StandardScaler()\n",
    "scaler = scaler.fit(X_train_2d)\n",
    "X_train = scaler.transform(X_train_2d)\n",
    "X_test = scaler.transform(X_test_2d)\n",
    "dump(scaler, open('/home/kia/Kiyanoush/UoLincoln/Projects/Tactile_control/slip_classification/kins/classifier_standard_scaler.pkl', 'wb'))"
   ]
  },
  {
   "cell_type": "code",
   "execution_count": 9,
   "metadata": {},
   "outputs": [],
   "source": [
    "def temporalize(data_2d, seq_len):\n",
    "    x_3d = np.zeros((int(data_2d.shape[0] / seq_len), seq_len, data_2d.shape[1]))\n",
    "    for index in range(x_3d.shape[0]):\n",
    "        x_3d[index] = data_2d[10*index:10*(index+1)]\n",
    "    \n",
    "    return x_3d"
   ]
  },
  {
   "cell_type": "code",
   "execution_count": 10,
   "metadata": {},
   "outputs": [],
   "source": [
    "X_train = temporalize(X_train, 10)\n",
    "X_test = temporalize(X_test, 10)"
   ]
  },
  {
   "cell_type": "code",
   "execution_count": 11,
   "metadata": {},
   "outputs": [],
   "source": [
    "## train data\n",
    "class TrainData(Dataset):\n",
    "    def __init__(self, X_data, y_data):\n",
    "        self.X_data = X_data\n",
    "        self.y_data = y_data\n",
    "\n",
    "    def __getitem__(self, index):\n",
    "        return self.X_data[index], self.y_data[index]\n",
    "\n",
    "    def __len__ (self):\n",
    "        return len(self.X_data)\n",
    "\n",
    "train_data = TrainData(X_train, y_train)\n",
    "\n",
    "## test data    \n",
    "class TestData(Dataset):    \n",
    "    def __init__(self, X_data):\n",
    "        self.X_data = X_data\n",
    "\n",
    "    def __getitem__(self, index):\n",
    "        return self.X_data[index]\n",
    "\n",
    "    def __len__ (self):\n",
    "        return len(self.X_data)\n",
    "    \n",
    "test_data = TestData(X_test)"
   ]
  },
  {
   "cell_type": "code",
   "execution_count": 12,
   "metadata": {},
   "outputs": [],
   "source": [
    "train_loader = DataLoader(dataset=train_data, batch_size=128, shuffle=True, drop_last=True)\n",
    "test_loader = DataLoader(dataset=test_data, batch_size=1)"
   ]
  },
  {
   "cell_type": "code",
   "execution_count": 13,
   "metadata": {},
   "outputs": [
    {
     "name": "stdout",
     "output_type": "stream",
     "text": [
      "cuda:0\n",
      "ClassifierLSTM(\n",
      "  (lstm): LSTM(32, 200)\n",
      "  (fc1): Linear(in_features=200, out_features=40, bias=True)\n",
      "  (fc2): Linear(in_features=40, out_features=1, bias=True)\n",
      "  (tan_activation): Tanh()\n",
      "  (relu_activation): ReLU()\n",
      "  (softmax_activation): Softmax(dim=1)\n",
      "  (dropout): Dropout(p=0.5, inplace=False)\n",
      ")\n"
     ]
    }
   ],
   "source": [
    "device = torch.device(\"cuda:0\" if torch.cuda.is_available() else \"cpu\")\n",
    "print(device)\n",
    "model = ClassifierLSTM(device, context_frames=10)\n",
    "model.to(device)\n",
    "weight = torch.Tensor([8]).to(device)\n",
    "criterion = nn.BCEWithLogitsLoss(pos_weight=weight)\n",
    "optimizer = optim.Adam(model.parameters(), lr=0.001)\n",
    "print(model)"
   ]
  },
  {
   "cell_type": "code",
   "execution_count": 14,
   "metadata": {},
   "outputs": [
    {
     "name": "stdout",
     "output_type": "stream",
     "text": [
      "195281\n"
     ]
    }
   ],
   "source": [
    "def count_parameters(model):\n",
    "    return sum(p.numel() for p in model.parameters() if p.requires_grad)\n",
    "\n",
    "print(count_parameters(model))"
   ]
  },
  {
   "cell_type": "code",
   "execution_count": 15,
   "metadata": {},
   "outputs": [],
   "source": [
    "def binary_acc(y_pred, y_test):\n",
    "    y_pred_tag = torch.round(torch.sigmoid(y_pred))\n",
    "\n",
    "    correct_results_sum = (y_pred_tag == y_test).sum().float()\n",
    "    acc = correct_results_sum/(y_test.shape[0]*y_test.shape[1])\n",
    "    acc = torch.round(acc * 100)\n",
    "    \n",
    "    return acc"
   ]
  },
  {
   "cell_type": "code",
   "execution_count": 16,
   "metadata": {},
   "outputs": [
    {
     "name": "stdout",
     "output_type": "stream",
     "text": [
      "Epoch 001: | Loss: 0.96816 | Train Acc: 85.597 | Val Acc: 84.255 | saved model\n",
      "Epoch 002: | Loss: 0.91703 | Train Acc: 87.986 | Val Acc: 83.330 | \n",
      "Epoch 003: | Loss: 0.91359 | Train Acc: 88.209 | Val Acc: 84.739 | saved model\n",
      "Epoch 004: | Loss: 0.91090 | Train Acc: 88.401 | Val Acc: 84.719 | \n",
      "Epoch 005: | Loss: 0.90775 | Train Acc: 88.705 | Val Acc: 85.385 | saved model\n",
      "Epoch 006: | Loss: 0.90165 | Train Acc: 89.365 | Val Acc: 85.610 | saved model\n",
      "Epoch 007: | Loss: 0.89708 | Train Acc: 89.776 | Val Acc: 86.410 | saved model\n",
      "Epoch 008: | Loss: 0.89455 | Train Acc: 89.951 | Val Acc: 86.746 | saved model\n",
      "Epoch 009: | Loss: 0.89218 | Train Acc: 90.158 | Val Acc: 87.216 | saved model\n",
      "Epoch 010: | Loss: 0.89010 | Train Acc: 90.350 | Val Acc: 87.297 | saved model\n",
      "Epoch 011: | Loss: 0.88886 | Train Acc: 90.461 | Val Acc: 87.295 | \n",
      "Epoch 012: | Loss: 0.88771 | Train Acc: 90.584 | Val Acc: 87.297 | \n",
      "Epoch 013: | Loss: 0.88638 | Train Acc: 90.674 | Val Acc: 87.776 | saved model\n",
      "Epoch 014: | Loss: 0.88472 | Train Acc: 90.830 | Val Acc: 87.776 | \n",
      "Epoch 015: | Loss: 0.88373 | Train Acc: 90.943 | Val Acc: 87.423 | \n",
      "Epoch 016: | Loss: 0.88265 | Train Acc: 91.010 | Val Acc: 87.887 | saved model\n",
      "Epoch 017: | Loss: 0.88136 | Train Acc: 91.156 | Val Acc: 87.684 | \n",
      "Epoch 018: | Loss: 0.88062 | Train Acc: 91.240 | Val Acc: 88.043 | saved model\n",
      "Epoch 019: | Loss: 0.87946 | Train Acc: 91.300 | Val Acc: 88.465 | saved model\n",
      "Epoch 020: | Loss: 0.87835 | Train Acc: 91.412 | Val Acc: 88.163 | \n",
      "Epoch 021: | Loss: 0.87816 | Train Acc: 91.433 | Val Acc: 88.159 | \n",
      "Epoch 022: | Loss: 0.87752 | Train Acc: 91.487 | Val Acc: 88.833 | saved model\n",
      "Epoch 023: | Loss: 0.87471 | Train Acc: 91.845 | Val Acc: 88.640 | \n",
      "Epoch 024: | Loss: 0.87223 | Train Acc: 92.056 | Val Acc: 89.134 | saved model\n",
      "Epoch 025: | Loss: 0.87081 | Train Acc: 92.181 | Val Acc: 88.659 | \n",
      "Epoch 026: | Loss: 0.87003 | Train Acc: 92.251 | Val Acc: 89.467 | saved model\n",
      "Epoch 027: | Loss: 0.86869 | Train Acc: 92.382 | Val Acc: 89.405 | \n",
      "Epoch 028: | Loss: 0.86825 | Train Acc: 92.418 | Val Acc: 89.785 | saved model\n",
      "Epoch 029: | Loss: 0.86772 | Train Acc: 92.478 | Val Acc: 89.556 | \n",
      "Epoch 030: | Loss: 0.86630 | Train Acc: 92.724 | Val Acc: 89.409 | \n",
      "Epoch 031: | Loss: 0.86578 | Train Acc: 92.850 | Val Acc: 89.502 | \n",
      "Epoch 032: | Loss: 0.86466 | Train Acc: 92.988 | Val Acc: 90.303 | saved model\n",
      "Epoch 033: | Loss: 0.86362 | Train Acc: 93.084 | Val Acc: 89.702 | \n",
      "Epoch 034: | Loss: 0.86276 | Train Acc: 93.107 | Val Acc: 90.219 | \n",
      "Epoch 035: | Loss: 0.86209 | Train Acc: 93.165 | Val Acc: 89.971 | \n",
      "Epoch 036: | Loss: 0.86112 | Train Acc: 93.264 | Val Acc: 89.945 | \n",
      "Epoch 037: | Loss: 0.86073 | Train Acc: 93.276 | Val Acc: 90.719 | saved model\n",
      "Epoch 038: | Loss: 0.86052 | Train Acc: 93.304 | Val Acc: 90.214 | \n",
      "Epoch 039: | Loss: 0.86059 | Train Acc: 93.292 | Val Acc: 90.535 | \n",
      "Epoch 040: | Loss: 0.85935 | Train Acc: 93.362 | Val Acc: 90.087 | \n",
      "Epoch 041: | Loss: 0.85944 | Train Acc: 93.390 | Val Acc: 90.061 | \n",
      "Epoch 042: | Loss: 0.85893 | Train Acc: 93.406 | Val Acc: 90.172 | \n",
      "Epoch 043: | Loss: 0.85876 | Train Acc: 93.412 | Val Acc: 90.175 | \n",
      "Epoch 044: | Loss: 0.85868 | Train Acc: 93.477 | Val Acc: 90.471 | \n",
      "Epoch 045: | Loss: 0.85852 | Train Acc: 93.472 | Val Acc: 90.869 | saved model\n",
      "Epoch 046: | Loss: 0.85732 | Train Acc: 93.541 | Val Acc: 90.537 | \n",
      "Epoch 047: | Loss: 0.85770 | Train Acc: 93.524 | Val Acc: 90.490 | \n",
      "Epoch 048: | Loss: 0.85729 | Train Acc: 93.514 | Val Acc: 90.770 | \n",
      "Epoch 049: | Loss: 0.85679 | Train Acc: 93.574 | Val Acc: 90.457 | \n",
      "Epoch 050: | Loss: 0.85684 | Train Acc: 93.568 | Val Acc: 90.651 | \n",
      "Epoch 051: | Loss: 0.85674 | Train Acc: 93.553 | Val Acc: 90.390 | \n",
      "Epoch 052: | Loss: 0.85624 | Train Acc: 93.597 | Val Acc: 90.503 | \n",
      "Epoch 053: | Loss: 0.85614 | Train Acc: 93.623 | Val Acc: 90.860 | \n",
      "Epoch 054: | Loss: 0.85598 | Train Acc: 93.630 | Val Acc: 90.519 | \n",
      "Epoch 055: | Loss: 0.85545 | Train Acc: 93.659 | Val Acc: 90.885 | saved model\n",
      "Epoch 056: | Loss: 0.85510 | Train Acc: 93.699 | Val Acc: 90.876 | \n",
      "Epoch 057: | Loss: 0.85538 | Train Acc: 93.666 | Val Acc: 90.647 | \n",
      "Epoch 058: | Loss: 0.85536 | Train Acc: 93.689 | Val Acc: 90.654 | \n",
      "Epoch 059: | Loss: 0.85509 | Train Acc: 93.689 | Val Acc: 90.927 | saved model\n",
      "Epoch 060: | Loss: 0.85487 | Train Acc: 93.716 | Val Acc: 90.564 | \n",
      "Epoch 061: | Loss: 0.85464 | Train Acc: 93.739 | Val Acc: 91.059 | saved model\n",
      "Epoch 062: | Loss: 0.85460 | Train Acc: 93.773 | Val Acc: 90.728 | \n",
      "Epoch 063: | Loss: 0.85423 | Train Acc: 93.771 | Val Acc: 90.954 | \n",
      "Epoch 064: | Loss: 0.85411 | Train Acc: 93.803 | Val Acc: 91.115 | saved model\n",
      "Epoch 065: | Loss: 0.85419 | Train Acc: 93.792 | Val Acc: 91.369 | saved model\n",
      "Epoch 066: | Loss: 0.85383 | Train Acc: 93.833 | Val Acc: 90.843 | \n",
      "Epoch 067: | Loss: 0.85369 | Train Acc: 93.845 | Val Acc: 91.085 | \n",
      "Epoch 068: | Loss: 0.85379 | Train Acc: 93.812 | Val Acc: 91.189 | \n",
      "Epoch 069: | Loss: 0.85363 | Train Acc: 93.814 | Val Acc: 91.250 | \n",
      "Epoch 070: | Loss: 0.85329 | Train Acc: 93.880 | Val Acc: 90.856 | \n"
     ]
    }
   ],
   "source": [
    "epochs = 70\n",
    "score_file = np.zeros((epochs, 2))\n",
    "best_val_acc = 0.0\n",
    "for e in range(1, epochs+1):\n",
    "    model.train()\n",
    "    epoch_loss = 0\n",
    "    epoch_acc = 0\n",
    "    model_save = \"\"\n",
    "    for X_batch, y_batch in train_loader:\n",
    "        X_batch = X_batch.type(torch.FloatTensor)\n",
    "        y_batch = y_batch.type(torch.FloatTensor)\n",
    "        \n",
    "        X_batch = X_batch.permute(1, 0, 2).to(device)\n",
    "        y_batch = y_batch.to(device)\n",
    "\n",
    "        optimizer.zero_grad()\n",
    "        \n",
    "        y_pred = model(X_batch)\n",
    "        y_pred = y_pred.permute(1, 0, 2).view(128, 10)\n",
    "        \n",
    "        loss = criterion(y_pred, y_batch)\n",
    "        acc = binary_acc(y_pred, y_batch)\n",
    "        \n",
    "        loss.backward()\n",
    "        optimizer.step()\n",
    "        \n",
    "        epoch_loss += loss.item()\n",
    "        epoch_acc += acc.item()\n",
    "\n",
    "    score_file[e-1, 0] = epoch_acc/len(train_loader)\n",
    "    \n",
    "    with torch.no_grad():\n",
    "        y_pred_list = []\n",
    "        model.eval()\n",
    "        for X_batch in test_loader:\n",
    "            X_batch = X_batch.type(torch.FloatTensor)\n",
    "            X_batch = X_batch.permute(1, 0, 2).to(device)\n",
    "            \n",
    "            X_batch = X_batch.to(device)\n",
    "            y_test_pred = model(X_batch)\n",
    "\n",
    "            y_test_pred = y_test_pred.permute(1, 0, 2).view(1, 10)\n",
    "            y_test_pred = torch.sigmoid(y_test_pred)\n",
    "            y_pred_tag = torch.round(y_test_pred)\n",
    "            y_pred_list.append(y_pred_tag.cpu().numpy())\n",
    "    \n",
    "    y_pred_list = [a.squeeze().tolist() for a in y_pred_list]\n",
    "    \n",
    "    val_acc = accuracy_score(y_test, y_pred_list) * 100\n",
    "\n",
    "    score_file[e-1, 1] = val_acc\n",
    "\n",
    "    if val_acc > best_val_acc:\n",
    "        best_val_acc = val_acc\n",
    "        torch.save(model, '/home/kia/Kiyanoush/UoLincoln/Projects/Tactile_control/slip_classification/kins/classifier_lstm')\n",
    "        model_save = \"saved model\"\n",
    "\n",
    "\n",
    "    print(f'Epoch {e+0:03}: | Loss: {epoch_loss/len(train_loader):.5f} | Train Acc: {epoch_acc/len(train_loader):.3f} | Val Acc: {val_acc:.3f} | {model_save}')\n",
    "\n",
    "np.save('/home/kia/Kiyanoush/UoLincoln/Projects/Tactile_control/slip_classification/Long_horizon/scores.npy', score_file)"
   ]
  },
  {
   "cell_type": "code",
   "execution_count": 17,
   "metadata": {},
   "outputs": [
    {
     "data": {
      "text/plain": [
       "ClassifierLSTM(\n",
       "  (lstm): LSTM(32, 200)\n",
       "  (fc1): Linear(in_features=200, out_features=40, bias=True)\n",
       "  (fc2): Linear(in_features=40, out_features=1, bias=True)\n",
       "  (tan_activation): Tanh()\n",
       "  (relu_activation): ReLU()\n",
       "  (softmax_activation): Softmax(dim=1)\n",
       "  (dropout): Dropout(p=0.5, inplace=False)\n",
       ")"
      ]
     },
     "execution_count": 17,
     "metadata": {},
     "output_type": "execute_result"
    }
   ],
   "source": [
    "model = torch.load('/home/kia/Kiyanoush/UoLincoln/Projects/Tactile_control/slip_classification/Class_sequence/single_feature/single_feature_classifier_lstm').to(device)\n",
    "model.eval()"
   ]
  },
  {
   "cell_type": "code",
   "execution_count": 18,
   "metadata": {},
   "outputs": [],
   "source": [
    "y_pred_list = []\n",
    "model.eval()\n",
    "\n",
    "with torch.no_grad():\n",
    "    for X_batch in test_loader:\n",
    "        X_batch = X_batch.type(torch.FloatTensor)\n",
    "        X_batch = X_batch.permute(1, 0, 2).to(device)\n",
    "        \n",
    "        X_batch = X_batch.to(device)\n",
    "        y_test_pred = model(X_batch)\n",
    "        y_test_pred = y_test_pred.permute(1, 0, 2).view(1, 50)\n",
    "        y_test_pred = torch.sigmoid(y_test_pred)\n",
    "        y_pred_tag = torch.round(y_test_pred)\n",
    "        y_pred_list.append(y_pred_tag.cpu().numpy())\n",
    "        \n",
    "y_pred_list = [a.squeeze().tolist() for a in y_pred_list]"
   ]
  },
  {
   "cell_type": "code",
   "execution_count": 19,
   "metadata": {},
   "outputs": [
    {
     "name": "stdout",
     "output_type": "stream",
     "text": [
      "              precision    recall  f1-score   support\n",
      "\n",
      "           0       0.96      0.94      0.95      2577\n",
      "           1       0.96      0.97      0.97      2624\n",
      "           2       0.96      0.97      0.97      2687\n",
      "           3       0.96      0.97      0.97      2723\n",
      "           4       0.98      0.97      0.97      2778\n",
      "           5       0.97      0.98      0.98      2820\n",
      "           6       0.98      0.98      0.98      2877\n",
      "           7       0.97      0.98      0.98      2925\n",
      "           8       0.98      0.98      0.98      2979\n",
      "           9       0.98      0.97      0.98      3023\n",
      "          10       0.98      0.97      0.98      3085\n",
      "          11       0.98      0.98      0.98      3142\n",
      "          12       0.98      0.98      0.98      3219\n",
      "          13       0.98      0.98      0.98      3281\n",
      "          14       0.98      0.97      0.97      3353\n",
      "          15       0.98      0.97      0.97      3417\n",
      "          16       0.98      0.97      0.97      3460\n",
      "          17       0.98      0.97      0.97      3523\n",
      "          18       0.98      0.97      0.97      3564\n",
      "          19       0.98      0.97      0.98      3633\n",
      "          20       0.98      0.97      0.98      3690\n",
      "          21       0.98      0.97      0.98      3750\n",
      "          22       0.98      0.97      0.98      3794\n",
      "          23       0.98      0.97      0.98      3850\n",
      "          24       0.98      0.97      0.97      3896\n",
      "          25       0.98      0.97      0.97      3913\n",
      "          26       0.98      0.97      0.97      3955\n",
      "          27       0.97      0.97      0.97      3987\n",
      "          28       0.97      0.97      0.97      4004\n",
      "          29       0.97      0.96      0.97      4043\n",
      "          30       0.97      0.96      0.97      4091\n",
      "          31       0.97      0.96      0.97      4118\n",
      "          32       0.97      0.96      0.96      4145\n",
      "          33       0.97      0.96      0.96      4177\n",
      "          34       0.97      0.96      0.96      4178\n",
      "          35       0.96      0.96      0.96      4203\n",
      "          36       0.97      0.96      0.96      4234\n",
      "          37       0.97      0.96      0.96      4276\n",
      "          38       0.96      0.96      0.96      4305\n",
      "          39       0.96      0.96      0.96      4317\n",
      "          40       0.96      0.96      0.96      4327\n",
      "          41       0.96      0.96      0.96      4334\n",
      "          42       0.96      0.96      0.96      4359\n",
      "          43       0.96      0.96      0.96      4386\n",
      "          44       0.96      0.96      0.96      4437\n",
      "          45       0.96      0.96      0.96      4475\n",
      "          46       0.96      0.96      0.96      4498\n",
      "          47       0.96      0.96      0.96      4525\n",
      "          48       0.96      0.96      0.96      4551\n",
      "          49       0.96      0.96      0.96      4576\n",
      "\n",
      "   micro avg       0.97      0.97      0.97    187084\n",
      "   macro avg       0.97      0.97      0.97    187084\n",
      "weighted avg       0.97      0.97      0.97    187084\n",
      " samples avg       0.20      0.20      0.20    187084\n",
      "\n"
     ]
    },
    {
     "name": "stderr",
     "output_type": "stream",
     "text": [
      "/home/kia/miniconda3/envs/tensorflow/lib/python3.7/site-packages/sklearn/metrics/_classification.py:1221: UndefinedMetricWarning: Precision and F-score are ill-defined and being set to 0.0 in samples with no predicted labels. Use `zero_division` parameter to control this behavior.\n",
      "  _warn_prf(average, modifier, msg_start, len(result))\n",
      "/home/kia/miniconda3/envs/tensorflow/lib/python3.7/site-packages/sklearn/metrics/_classification.py:1221: UndefinedMetricWarning: Recall and F-score are ill-defined and being set to 0.0 in samples with no true labels. Use `zero_division` parameter to control this behavior.\n",
      "  _warn_prf(average, modifier, msg_start, len(result))\n"
     ]
    }
   ],
   "source": [
    "print(classification_report(y_test, y_pred_list))"
   ]
  },
  {
   "cell_type": "code",
   "execution_count": 20,
   "metadata": {},
   "outputs": [],
   "source": [
    "y_pred_list = np.asarray(y_pred_list)"
   ]
  },
  {
   "cell_type": "code",
   "execution_count": 21,
   "metadata": {},
   "outputs": [
    {
     "data": {
      "text/plain": [
       "Text(0.5, 32.09375, 'Predicted class')"
      ]
     },
     "execution_count": 21,
     "metadata": {},
     "output_type": "execute_result"
    },
    {
     "data": {
      "image/png": "[encoded data removed]",
      "text/plain": [
       "<Figure size 432x432 with 2 Axes>"
      ]
     },
     "metadata": {
      "needs_background": "light"
     },
     "output_type": "display_data"
    }
   ],
   "source": [
    "import seaborn as sns\n",
    "import matplotlib.pyplot as plt\n",
    "conf_matrix = confusion_matrix(y_test[:, -1], y_pred_list[:, -1])\n",
    "LABELS = [\"non_slip\",\"slip\"]\n",
    "plt.figure(figsize=(6, 6))\n",
    "sns.heatmap(conf_matrix, xticklabels=LABELS, yticklabels=LABELS, annot=True, fmt=\"d\");\n",
    "plt.title(\"Confusion matrix\")\n",
    "plt.ylabel('True class')\n",
    "plt.xlabel('Predicted class')\n",
    "# plt.savefig('confusion_matrix.png')"
   ]
  },
  {
   "cell_type": "code",
   "execution_count": 29,
   "metadata": {},
   "outputs": [
    {
     "name": "stdout",
     "output_type": "stream",
     "text": [
      "0.025365114212036133\n"
     ]
    }
   ],
   "source": [
    "import time\n",
    "\n",
    "y_pred_list = []\n",
    "model.eval()\n",
    "count = 0\n",
    "t1 = time.time()\n",
    "for X_batch, y_batch in train_loader:\n",
    "    X_batch = X_batch.type(torch.FloatTensor)\n",
    "    X_batch = X_batch.permute(1, 0, 2).to(device)\n",
    "    \n",
    "    X_batch = X_batch.to(device)\n",
    "    y_test_pred = model(X_batch)\n",
    "    y_test_pred = torch.sigmoid(y_test_pred)\n",
    "    y_pred_tag = torch.round(y_test_pred)\n",
    "    y_pred_list.append(y_pred_tag.cpu().detach().numpy())\n",
    "    t2 = time.time()\n",
    "    break\n",
    "\n",
    "print(t2-t1)"
   ]
  }
 ],
 "metadata": {
  "interpreter": {
   "hash": "b53fcb633c9691f82046febe19aeee415856832757c230a8d8b4a8d6fbeb0243"
  },
  "kernelspec": {
   "display_name": "Python 3.7.8 64-bit ('tensorflow': conda)",
   "language": "python",
   "name": "python3"
  },
  "language_info": {
   "codemirror_mode": {
    "name": "ipython",
    "version": 3
   },
   "file_extension": ".py",
   "mimetype": "text/x-python",
   "name": "python",
   "nbconvert_exporter": "python",
   "pygments_lexer": "ipython3",
   "version": "3.7.8"
  },
  "orig_nbformat": 4
 },
 "nbformat": 4,
 "nbformat_minor": 2
}
